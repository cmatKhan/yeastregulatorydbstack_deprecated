{
 "cells": [
  {
   "cell_type": "code",
   "execution_count": 1,
   "metadata": {},
   "outputs": [],
   "source": [
    "from yeastregulatorydbstack.resources import (\n",
    "  alb,\n",
    "  ecs_fargate,\n",
    "  lambda_functions,\n",
    "  rds_redis_ec2,\n",
    "  security_groups,\n",
    "  vpc_subnets_routetables_networkcon)\n",
    "from yeastregulatorydbstack.create_template import create_template\n",
    "\n",
    "import os\n",
    "\n",
    "from yeastregulatorydbstack.resources import (\n",
    "    alb,\n",
    "    ecs_fargate,\n",
    "    rds_redis_ec2,\n",
    "    security_groups,\n",
    "    vpc_subnets_routetables_networkcon,\n",
    ")\n",
    "\n",
    "HEADER = (\n",
    "    \"\"\"\n",
    "AWSTemplateFormatVersion: '2010-09-09'\n",
    "Description: CloudFormation template for PostgreSQL RDS, ElastiCache Redis, \"\"\"\n",
    "    + \"EC2 and a ECS/Fargate cluster for a django app complete with VPC, \"\n",
    "    + \"subnets, security groups, and IAM roles.\"\n",
    ")"
   ]
  },
  {
   "cell_type": "code",
   "execution_count": 2,
   "metadata": {},
   "outputs": [],
   "source": [
    "template_body = create_template(\n",
    "    parameter_list=[\n",
    "\t\t\t\tvpc_subnets_routetables_networkcon.get_parameters(),\n",
    "\t\t\t\tsecurity_groups.get_parameters(),\n",
    "        #lambda_functions.get_parameters(),\n",
    "\t\t\t\trds_redis_ec2.get_parameters(),\n",
    "\t\t\t\tecs_fargate.get_parameters(),\n",
    "\t\t\t\talb.get_parameters(),\n",
    "    ],\n",
    "\t\tresource_list=[\n",
    "\t\t\t\tvpc_subnets_routetables_networkcon.get_resources(),\n",
    "\t\t\t\tsecurity_groups.get_resources(),\n",
    "        #lambda_functions.get_resources(),\n",
    "\t\t\t\trds_redis_ec2.get_resources(),\n",
    "\t\t\t\tecs_fargate.get_resources(),\n",
    "\t\t\t\talb.get_resources(),\n",
    "\t\t],\n",
    "\t\toutput_list=[\n",
    "\t\t\t\tvpc_subnets_routetables_networkcon.get_outputs(),\n",
    "\t\t\t\tsecurity_groups.get_outputs(),\n",
    "        #lambda_functions.get_outputs(),\n",
    "\t\t\t\trds_redis_ec2.get_outputs(),\n",
    "\t\t\t\tecs_fargate.get_outputs(),\n",
    "\t\t\t\talb.get_outputs(),\n",
    "\t\t],\n",
    ")"
   ]
  },
  {
   "cell_type": "code",
   "execution_count": 3,
   "metadata": {},
   "outputs": [],
   "source": [
    "import boto3\n",
    "\n",
    "\n",
    "\n",
    "with open('template_tester.txt', 'w') as file:\n",
    "    file.write(template_body)\n",
    "\n",
    "client = boto3.client(\"cloudformation\")\n",
    "\n",
    "response = client.validate_template(TemplateBody=template_body)"
   ]
  }
 ],
 "metadata": {
  "kernelspec": {
   "display_name": ".venv",
   "language": "python",
   "name": "python3"
  },
  "language_info": {
   "codemirror_mode": {
    "name": "ipython",
    "version": 3
   },
   "file_extension": ".py",
   "mimetype": "text/x-python",
   "name": "python",
   "nbconvert_exporter": "python",
   "pygments_lexer": "ipython3",
   "version": "3.11.7"
  }
 },
 "nbformat": 4,
 "nbformat_minor": 2
}
